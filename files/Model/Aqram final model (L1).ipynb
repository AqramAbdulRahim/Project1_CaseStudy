{
 "cells": [
  {
   "cell_type": "code",
   "execution_count": 1,
   "id": "8fd31120",
   "metadata": {},
   "outputs": [],
   "source": [
    "import pandas as pd\n",
    "import numpy as np\n",
    "import matplotlib.pyplot as plt\n",
    "import seaborn as sns"
   ]
  },
  {
   "cell_type": "code",
   "execution_count": 2,
   "id": "a5b5748d",
   "metadata": {},
   "outputs": [],
   "source": [
    "df = pd.read_csv('Aqram_Project1_FinalClean_data.csv')"
   ]
  },
  {
   "cell_type": "code",
   "execution_count": 4,
   "id": "1c17e705",
   "metadata": {
    "scrolled": true
   },
   "outputs": [
    {
     "data": {
      "text/html": [
       "<div>\n",
       "<style scoped>\n",
       "    .dataframe tbody tr th:only-of-type {\n",
       "        vertical-align: middle;\n",
       "    }\n",
       "\n",
       "    .dataframe tbody tr th {\n",
       "        vertical-align: top;\n",
       "    }\n",
       "\n",
       "    .dataframe thead th {\n",
       "        text-align: right;\n",
       "    }\n",
       "</style>\n",
       "<table border=\"1\" class=\"dataframe\">\n",
       "  <thead>\n",
       "    <tr style=\"text-align: right;\">\n",
       "      <th></th>\n",
       "      <th>MS SubClass</th>\n",
       "      <th>Lot Frontage</th>\n",
       "      <th>Lot Area</th>\n",
       "      <th>Street</th>\n",
       "      <th>Lot Shape</th>\n",
       "      <th>Land Slope</th>\n",
       "      <th>Overall Qual</th>\n",
       "      <th>Overall Cond</th>\n",
       "      <th>Year Built</th>\n",
       "      <th>Year Remod/Add</th>\n",
       "      <th>...</th>\n",
       "      <th>Sale Type_ConLw</th>\n",
       "      <th>Sale Type_New</th>\n",
       "      <th>Sale Type_Oth</th>\n",
       "      <th>Sale Type_VWD</th>\n",
       "      <th>Sale Type_WD</th>\n",
       "      <th>Sale Condition_AdjLand</th>\n",
       "      <th>Sale Condition_Alloca</th>\n",
       "      <th>Sale Condition_Family</th>\n",
       "      <th>Sale Condition_Normal</th>\n",
       "      <th>Sale Condition_Partial</th>\n",
       "    </tr>\n",
       "  </thead>\n",
       "  <tbody>\n",
       "    <tr>\n",
       "      <th>0</th>\n",
       "      <td>20</td>\n",
       "      <td>141.0</td>\n",
       "      <td>31770</td>\n",
       "      <td>1</td>\n",
       "      <td>1</td>\n",
       "      <td>0</td>\n",
       "      <td>6</td>\n",
       "      <td>5</td>\n",
       "      <td>1960</td>\n",
       "      <td>1960</td>\n",
       "      <td>...</td>\n",
       "      <td>0</td>\n",
       "      <td>0</td>\n",
       "      <td>0</td>\n",
       "      <td>0</td>\n",
       "      <td>1</td>\n",
       "      <td>0</td>\n",
       "      <td>0</td>\n",
       "      <td>0</td>\n",
       "      <td>1</td>\n",
       "      <td>0</td>\n",
       "    </tr>\n",
       "    <tr>\n",
       "      <th>1</th>\n",
       "      <td>20</td>\n",
       "      <td>80.0</td>\n",
       "      <td>11622</td>\n",
       "      <td>1</td>\n",
       "      <td>0</td>\n",
       "      <td>0</td>\n",
       "      <td>5</td>\n",
       "      <td>6</td>\n",
       "      <td>1961</td>\n",
       "      <td>1961</td>\n",
       "      <td>...</td>\n",
       "      <td>0</td>\n",
       "      <td>0</td>\n",
       "      <td>0</td>\n",
       "      <td>0</td>\n",
       "      <td>1</td>\n",
       "      <td>0</td>\n",
       "      <td>0</td>\n",
       "      <td>0</td>\n",
       "      <td>1</td>\n",
       "      <td>0</td>\n",
       "    </tr>\n",
       "    <tr>\n",
       "      <th>2</th>\n",
       "      <td>20</td>\n",
       "      <td>81.0</td>\n",
       "      <td>14267</td>\n",
       "      <td>1</td>\n",
       "      <td>1</td>\n",
       "      <td>0</td>\n",
       "      <td>6</td>\n",
       "      <td>6</td>\n",
       "      <td>1958</td>\n",
       "      <td>1958</td>\n",
       "      <td>...</td>\n",
       "      <td>0</td>\n",
       "      <td>0</td>\n",
       "      <td>0</td>\n",
       "      <td>0</td>\n",
       "      <td>1</td>\n",
       "      <td>0</td>\n",
       "      <td>0</td>\n",
       "      <td>0</td>\n",
       "      <td>1</td>\n",
       "      <td>0</td>\n",
       "    </tr>\n",
       "    <tr>\n",
       "      <th>3</th>\n",
       "      <td>20</td>\n",
       "      <td>93.0</td>\n",
       "      <td>11160</td>\n",
       "      <td>1</td>\n",
       "      <td>0</td>\n",
       "      <td>0</td>\n",
       "      <td>7</td>\n",
       "      <td>5</td>\n",
       "      <td>1968</td>\n",
       "      <td>1968</td>\n",
       "      <td>...</td>\n",
       "      <td>0</td>\n",
       "      <td>0</td>\n",
       "      <td>0</td>\n",
       "      <td>0</td>\n",
       "      <td>1</td>\n",
       "      <td>0</td>\n",
       "      <td>0</td>\n",
       "      <td>0</td>\n",
       "      <td>1</td>\n",
       "      <td>0</td>\n",
       "    </tr>\n",
       "    <tr>\n",
       "      <th>4</th>\n",
       "      <td>60</td>\n",
       "      <td>74.0</td>\n",
       "      <td>13830</td>\n",
       "      <td>1</td>\n",
       "      <td>1</td>\n",
       "      <td>0</td>\n",
       "      <td>5</td>\n",
       "      <td>5</td>\n",
       "      <td>1997</td>\n",
       "      <td>1998</td>\n",
       "      <td>...</td>\n",
       "      <td>0</td>\n",
       "      <td>0</td>\n",
       "      <td>0</td>\n",
       "      <td>0</td>\n",
       "      <td>1</td>\n",
       "      <td>0</td>\n",
       "      <td>0</td>\n",
       "      <td>0</td>\n",
       "      <td>1</td>\n",
       "      <td>0</td>\n",
       "    </tr>\n",
       "  </tbody>\n",
       "</table>\n",
       "<p>5 rows × 210 columns</p>\n",
       "</div>"
      ],
      "text/plain": [
       "   MS SubClass  Lot Frontage  Lot Area  Street  Lot Shape  Land Slope  \\\n",
       "0           20         141.0     31770       1          1           0   \n",
       "1           20          80.0     11622       1          0           0   \n",
       "2           20          81.0     14267       1          1           0   \n",
       "3           20          93.0     11160       1          0           0   \n",
       "4           60          74.0     13830       1          1           0   \n",
       "\n",
       "   Overall Qual  Overall Cond  Year Built  Year Remod/Add  ...  \\\n",
       "0             6             5        1960            1960  ...   \n",
       "1             5             6        1961            1961  ...   \n",
       "2             6             6        1958            1958  ...   \n",
       "3             7             5        1968            1968  ...   \n",
       "4             5             5        1997            1998  ...   \n",
       "\n",
       "   Sale Type_ConLw  Sale Type_New  Sale Type_Oth  Sale Type_VWD  \\\n",
       "0                0              0              0              0   \n",
       "1                0              0              0              0   \n",
       "2                0              0              0              0   \n",
       "3                0              0              0              0   \n",
       "4                0              0              0              0   \n",
       "\n",
       "   Sale Type_WD   Sale Condition_AdjLand  Sale Condition_Alloca  \\\n",
       "0              1                       0                      0   \n",
       "1              1                       0                      0   \n",
       "2              1                       0                      0   \n",
       "3              1                       0                      0   \n",
       "4              1                       0                      0   \n",
       "\n",
       "   Sale Condition_Family  Sale Condition_Normal  Sale Condition_Partial  \n",
       "0                      0                      1                       0  \n",
       "1                      0                      1                       0  \n",
       "2                      0                      1                       0  \n",
       "3                      0                      1                       0  \n",
       "4                      0                      1                       0  \n",
       "\n",
       "[5 rows x 210 columns]"
      ]
     },
     "execution_count": 4,
     "metadata": {},
     "output_type": "execute_result"
    }
   ],
   "source": [
    "df.head()"
   ]
  },
  {
   "cell_type": "code",
   "execution_count": 18,
   "id": "d984094f",
   "metadata": {},
   "outputs": [
    {
     "data": {
      "text/html": [
       "<div>\n",
       "<style scoped>\n",
       "    .dataframe tbody tr th:only-of-type {\n",
       "        vertical-align: middle;\n",
       "    }\n",
       "\n",
       "    .dataframe tbody tr th {\n",
       "        vertical-align: top;\n",
       "    }\n",
       "\n",
       "    .dataframe thead th {\n",
       "        text-align: right;\n",
       "    }\n",
       "</style>\n",
       "<table border=\"1\" class=\"dataframe\">\n",
       "  <thead>\n",
       "    <tr style=\"text-align: right;\">\n",
       "      <th></th>\n",
       "      <th>MS SubClass</th>\n",
       "      <th>Lot Frontage</th>\n",
       "      <th>Lot Area</th>\n",
       "      <th>Street</th>\n",
       "      <th>Lot Shape</th>\n",
       "      <th>Land Slope</th>\n",
       "      <th>Overall Qual</th>\n",
       "      <th>Overall Cond</th>\n",
       "      <th>Year Built</th>\n",
       "      <th>Year Remod/Add</th>\n",
       "      <th>...</th>\n",
       "      <th>Sale Type_ConLw</th>\n",
       "      <th>Sale Type_New</th>\n",
       "      <th>Sale Type_Oth</th>\n",
       "      <th>Sale Type_VWD</th>\n",
       "      <th>Sale Type_WD</th>\n",
       "      <th>Sale Condition_AdjLand</th>\n",
       "      <th>Sale Condition_Alloca</th>\n",
       "      <th>Sale Condition_Family</th>\n",
       "      <th>Sale Condition_Normal</th>\n",
       "      <th>Sale Condition_Partial</th>\n",
       "    </tr>\n",
       "  </thead>\n",
       "  <tbody>\n",
       "    <tr>\n",
       "      <th>1270</th>\n",
       "      <td>70</td>\n",
       "      <td>50.0</td>\n",
       "      <td>5250</td>\n",
       "      <td>1</td>\n",
       "      <td>0</td>\n",
       "      <td>0</td>\n",
       "      <td>8</td>\n",
       "      <td>5</td>\n",
       "      <td>1872</td>\n",
       "      <td>1987</td>\n",
       "      <td>...</td>\n",
       "      <td>0</td>\n",
       "      <td>0</td>\n",
       "      <td>0</td>\n",
       "      <td>0</td>\n",
       "      <td>1</td>\n",
       "      <td>0</td>\n",
       "      <td>0</td>\n",
       "      <td>0</td>\n",
       "      <td>1</td>\n",
       "      <td>0</td>\n",
       "    </tr>\n",
       "  </tbody>\n",
       "</table>\n",
       "<p>1 rows × 210 columns</p>\n",
       "</div>"
      ],
      "text/plain": [
       "      MS SubClass  Lot Frontage  Lot Area  Street  Lot Shape  Land Slope  \\\n",
       "1270           70          50.0      5250       1          0           0   \n",
       "\n",
       "      Overall Qual  Overall Cond  Year Built  Year Remod/Add  ...  \\\n",
       "1270             8             5        1872            1987  ...   \n",
       "\n",
       "      Sale Type_ConLw  Sale Type_New  Sale Type_Oth  Sale Type_VWD  \\\n",
       "1270                0              0              0              0   \n",
       "\n",
       "      Sale Type_WD   Sale Condition_AdjLand  Sale Condition_Alloca  \\\n",
       "1270              1                       0                      0   \n",
       "\n",
       "      Sale Condition_Family  Sale Condition_Normal  Sale Condition_Partial  \n",
       "1270                      0                      1                       0  \n",
       "\n",
       "[1 rows x 210 columns]"
      ]
     },
     "execution_count": 18,
     "metadata": {},
     "output_type": "execute_result"
    }
   ],
   "source": [
    "df[df['Year Built'] == df['Year Built'].min()]"
   ]
  },
  {
   "cell_type": "code",
   "execution_count": 20,
   "id": "775cc68c",
   "metadata": {},
   "outputs": [
    {
     "data": {
      "text/html": [
       "<div>\n",
       "<style scoped>\n",
       "    .dataframe tbody tr th:only-of-type {\n",
       "        vertical-align: middle;\n",
       "    }\n",
       "\n",
       "    .dataframe tbody tr th {\n",
       "        vertical-align: top;\n",
       "    }\n",
       "\n",
       "    .dataframe thead th {\n",
       "        text-align: right;\n",
       "    }\n",
       "</style>\n",
       "<table border=\"1\" class=\"dataframe\">\n",
       "  <thead>\n",
       "    <tr style=\"text-align: right;\">\n",
       "      <th></th>\n",
       "      <th>MS SubClass</th>\n",
       "      <th>Lot Frontage</th>\n",
       "      <th>Lot Area</th>\n",
       "      <th>Street</th>\n",
       "      <th>Lot Shape</th>\n",
       "      <th>Land Slope</th>\n",
       "      <th>Overall Qual</th>\n",
       "      <th>Overall Cond</th>\n",
       "      <th>Year Built</th>\n",
       "      <th>Year Remod/Add</th>\n",
       "      <th>...</th>\n",
       "      <th>Sale Type_ConLw</th>\n",
       "      <th>Sale Type_New</th>\n",
       "      <th>Sale Type_Oth</th>\n",
       "      <th>Sale Type_VWD</th>\n",
       "      <th>Sale Type_WD</th>\n",
       "      <th>Sale Condition_AdjLand</th>\n",
       "      <th>Sale Condition_Alloca</th>\n",
       "      <th>Sale Condition_Family</th>\n",
       "      <th>Sale Condition_Normal</th>\n",
       "      <th>Sale Condition_Partial</th>\n",
       "    </tr>\n",
       "  </thead>\n",
       "  <tbody>\n",
       "    <tr>\n",
       "      <th>16</th>\n",
       "      <td>20</td>\n",
       "      <td>88.0</td>\n",
       "      <td>11394</td>\n",
       "      <td>1</td>\n",
       "      <td>0</td>\n",
       "      <td>0</td>\n",
       "      <td>9</td>\n",
       "      <td>2</td>\n",
       "      <td>2010</td>\n",
       "      <td>2010</td>\n",
       "      <td>...</td>\n",
       "      <td>0</td>\n",
       "      <td>1</td>\n",
       "      <td>0</td>\n",
       "      <td>0</td>\n",
       "      <td>0</td>\n",
       "      <td>0</td>\n",
       "      <td>0</td>\n",
       "      <td>0</td>\n",
       "      <td>0</td>\n",
       "      <td>1</td>\n",
       "    </tr>\n",
       "    <tr>\n",
       "      <th>100</th>\n",
       "      <td>20</td>\n",
       "      <td>57.0</td>\n",
       "      <td>12853</td>\n",
       "      <td>1</td>\n",
       "      <td>1</td>\n",
       "      <td>0</td>\n",
       "      <td>8</td>\n",
       "      <td>5</td>\n",
       "      <td>2010</td>\n",
       "      <td>2010</td>\n",
       "      <td>...</td>\n",
       "      <td>0</td>\n",
       "      <td>1</td>\n",
       "      <td>0</td>\n",
       "      <td>0</td>\n",
       "      <td>0</td>\n",
       "      <td>0</td>\n",
       "      <td>0</td>\n",
       "      <td>0</td>\n",
       "      <td>0</td>\n",
       "      <td>1</td>\n",
       "    </tr>\n",
       "    <tr>\n",
       "      <th>245</th>\n",
       "      <td>20</td>\n",
       "      <td>64.0</td>\n",
       "      <td>7360</td>\n",
       "      <td>1</td>\n",
       "      <td>0</td>\n",
       "      <td>0</td>\n",
       "      <td>7</td>\n",
       "      <td>5</td>\n",
       "      <td>2010</td>\n",
       "      <td>2010</td>\n",
       "      <td>...</td>\n",
       "      <td>0</td>\n",
       "      <td>0</td>\n",
       "      <td>0</td>\n",
       "      <td>0</td>\n",
       "      <td>1</td>\n",
       "      <td>0</td>\n",
       "      <td>0</td>\n",
       "      <td>0</td>\n",
       "      <td>1</td>\n",
       "      <td>0</td>\n",
       "    </tr>\n",
       "  </tbody>\n",
       "</table>\n",
       "<p>3 rows × 210 columns</p>\n",
       "</div>"
      ],
      "text/plain": [
       "     MS SubClass  Lot Frontage  Lot Area  Street  Lot Shape  Land Slope  \\\n",
       "16            20          88.0     11394       1          0           0   \n",
       "100           20          57.0     12853       1          1           0   \n",
       "245           20          64.0      7360       1          0           0   \n",
       "\n",
       "     Overall Qual  Overall Cond  Year Built  Year Remod/Add  ...  \\\n",
       "16              9             2        2010            2010  ...   \n",
       "100             8             5        2010            2010  ...   \n",
       "245             7             5        2010            2010  ...   \n",
       "\n",
       "     Sale Type_ConLw  Sale Type_New  Sale Type_Oth  Sale Type_VWD  \\\n",
       "16                 0              1              0              0   \n",
       "100                0              1              0              0   \n",
       "245                0              0              0              0   \n",
       "\n",
       "     Sale Type_WD   Sale Condition_AdjLand  Sale Condition_Alloca  \\\n",
       "16               0                       0                      0   \n",
       "100              0                       0                      0   \n",
       "245              1                       0                      0   \n",
       "\n",
       "     Sale Condition_Family  Sale Condition_Normal  Sale Condition_Partial  \n",
       "16                       0                      0                       1  \n",
       "100                      0                      0                       1  \n",
       "245                      0                      1                       0  \n",
       "\n",
       "[3 rows x 210 columns]"
      ]
     },
     "execution_count": 20,
     "metadata": {},
     "output_type": "execute_result"
    }
   ],
   "source": [
    "df[df['Year Built'] == df['Year Built'].max()]"
   ]
  },
  {
   "cell_type": "code",
   "execution_count": 19,
   "id": "7d81806e",
   "metadata": {},
   "outputs": [
    {
     "data": {
      "text/html": [
       "<div>\n",
       "<style scoped>\n",
       "    .dataframe tbody tr th:only-of-type {\n",
       "        vertical-align: middle;\n",
       "    }\n",
       "\n",
       "    .dataframe tbody tr th {\n",
       "        vertical-align: top;\n",
       "    }\n",
       "\n",
       "    .dataframe thead th {\n",
       "        text-align: right;\n",
       "    }\n",
       "</style>\n",
       "<table border=\"1\" class=\"dataframe\">\n",
       "  <thead>\n",
       "    <tr style=\"text-align: right;\">\n",
       "      <th></th>\n",
       "      <th>MS SubClass</th>\n",
       "      <th>Lot Frontage</th>\n",
       "      <th>Lot Area</th>\n",
       "      <th>Street</th>\n",
       "      <th>Lot Shape</th>\n",
       "      <th>Land Slope</th>\n",
       "      <th>Overall Qual</th>\n",
       "      <th>Overall Cond</th>\n",
       "      <th>Year Built</th>\n",
       "      <th>Year Remod/Add</th>\n",
       "      <th>...</th>\n",
       "      <th>Sale Type_ConLw</th>\n",
       "      <th>Sale Type_New</th>\n",
       "      <th>Sale Type_Oth</th>\n",
       "      <th>Sale Type_VWD</th>\n",
       "      <th>Sale Type_WD</th>\n",
       "      <th>Sale Condition_AdjLand</th>\n",
       "      <th>Sale Condition_Alloca</th>\n",
       "      <th>Sale Condition_Family</th>\n",
       "      <th>Sale Condition_Normal</th>\n",
       "      <th>Sale Condition_Partial</th>\n",
       "    </tr>\n",
       "  </thead>\n",
       "  <tbody>\n",
       "    <tr>\n",
       "      <th>79</th>\n",
       "      <td>30</td>\n",
       "      <td>70.0</td>\n",
       "      <td>9800</td>\n",
       "      <td>1</td>\n",
       "      <td>0</td>\n",
       "      <td>0</td>\n",
       "      <td>5</td>\n",
       "      <td>5</td>\n",
       "      <td>1920</td>\n",
       "      <td>1950</td>\n",
       "      <td>...</td>\n",
       "      <td>0</td>\n",
       "      <td>0</td>\n",
       "      <td>0</td>\n",
       "      <td>0</td>\n",
       "      <td>1</td>\n",
       "      <td>0</td>\n",
       "      <td>0</td>\n",
       "      <td>0</td>\n",
       "      <td>1</td>\n",
       "      <td>0</td>\n",
       "    </tr>\n",
       "    <tr>\n",
       "      <th>124</th>\n",
       "      <td>50</td>\n",
       "      <td>120.0</td>\n",
       "      <td>17360</td>\n",
       "      <td>1</td>\n",
       "      <td>0</td>\n",
       "      <td>0</td>\n",
       "      <td>6</td>\n",
       "      <td>6</td>\n",
       "      <td>1949</td>\n",
       "      <td>1950</td>\n",
       "      <td>...</td>\n",
       "      <td>0</td>\n",
       "      <td>0</td>\n",
       "      <td>0</td>\n",
       "      <td>0</td>\n",
       "      <td>1</td>\n",
       "      <td>0</td>\n",
       "      <td>0</td>\n",
       "      <td>0</td>\n",
       "      <td>1</td>\n",
       "      <td>0</td>\n",
       "    </tr>\n",
       "    <tr>\n",
       "      <th>153</th>\n",
       "      <td>50</td>\n",
       "      <td>78.0</td>\n",
       "      <td>17503</td>\n",
       "      <td>1</td>\n",
       "      <td>0</td>\n",
       "      <td>0</td>\n",
       "      <td>6</td>\n",
       "      <td>5</td>\n",
       "      <td>1948</td>\n",
       "      <td>1950</td>\n",
       "      <td>...</td>\n",
       "      <td>0</td>\n",
       "      <td>0</td>\n",
       "      <td>0</td>\n",
       "      <td>0</td>\n",
       "      <td>1</td>\n",
       "      <td>0</td>\n",
       "      <td>0</td>\n",
       "      <td>0</td>\n",
       "      <td>0</td>\n",
       "      <td>0</td>\n",
       "    </tr>\n",
       "    <tr>\n",
       "      <th>166</th>\n",
       "      <td>30</td>\n",
       "      <td>56.0</td>\n",
       "      <td>4485</td>\n",
       "      <td>1</td>\n",
       "      <td>0</td>\n",
       "      <td>0</td>\n",
       "      <td>5</td>\n",
       "      <td>7</td>\n",
       "      <td>1920</td>\n",
       "      <td>1950</td>\n",
       "      <td>...</td>\n",
       "      <td>0</td>\n",
       "      <td>0</td>\n",
       "      <td>0</td>\n",
       "      <td>0</td>\n",
       "      <td>1</td>\n",
       "      <td>0</td>\n",
       "      <td>0</td>\n",
       "      <td>0</td>\n",
       "      <td>1</td>\n",
       "      <td>0</td>\n",
       "    </tr>\n",
       "    <tr>\n",
       "      <th>167</th>\n",
       "      <td>30</td>\n",
       "      <td>56.0</td>\n",
       "      <td>8960</td>\n",
       "      <td>1</td>\n",
       "      <td>0</td>\n",
       "      <td>0</td>\n",
       "      <td>5</td>\n",
       "      <td>6</td>\n",
       "      <td>1927</td>\n",
       "      <td>1950</td>\n",
       "      <td>...</td>\n",
       "      <td>0</td>\n",
       "      <td>0</td>\n",
       "      <td>0</td>\n",
       "      <td>0</td>\n",
       "      <td>1</td>\n",
       "      <td>0</td>\n",
       "      <td>0</td>\n",
       "      <td>0</td>\n",
       "      <td>1</td>\n",
       "      <td>0</td>\n",
       "    </tr>\n",
       "    <tr>\n",
       "      <th>...</th>\n",
       "      <td>...</td>\n",
       "      <td>...</td>\n",
       "      <td>...</td>\n",
       "      <td>...</td>\n",
       "      <td>...</td>\n",
       "      <td>...</td>\n",
       "      <td>...</td>\n",
       "      <td>...</td>\n",
       "      <td>...</td>\n",
       "      <td>...</td>\n",
       "      <td>...</td>\n",
       "      <td>...</td>\n",
       "      <td>...</td>\n",
       "      <td>...</td>\n",
       "      <td>...</td>\n",
       "      <td>...</td>\n",
       "      <td>...</td>\n",
       "      <td>...</td>\n",
       "      <td>...</td>\n",
       "      <td>...</td>\n",
       "      <td>...</td>\n",
       "    </tr>\n",
       "    <tr>\n",
       "      <th>2772</th>\n",
       "      <td>30</td>\n",
       "      <td>50.0</td>\n",
       "      <td>8765</td>\n",
       "      <td>1</td>\n",
       "      <td>0</td>\n",
       "      <td>0</td>\n",
       "      <td>4</td>\n",
       "      <td>6</td>\n",
       "      <td>1936</td>\n",
       "      <td>1950</td>\n",
       "      <td>...</td>\n",
       "      <td>0</td>\n",
       "      <td>0</td>\n",
       "      <td>0</td>\n",
       "      <td>0</td>\n",
       "      <td>1</td>\n",
       "      <td>0</td>\n",
       "      <td>0</td>\n",
       "      <td>0</td>\n",
       "      <td>0</td>\n",
       "      <td>0</td>\n",
       "    </tr>\n",
       "    <tr>\n",
       "      <th>2774</th>\n",
       "      <td>50</td>\n",
       "      <td>60.0</td>\n",
       "      <td>11040</td>\n",
       "      <td>1</td>\n",
       "      <td>0</td>\n",
       "      <td>1</td>\n",
       "      <td>4</td>\n",
       "      <td>6</td>\n",
       "      <td>1920</td>\n",
       "      <td>1950</td>\n",
       "      <td>...</td>\n",
       "      <td>0</td>\n",
       "      <td>0</td>\n",
       "      <td>0</td>\n",
       "      <td>0</td>\n",
       "      <td>0</td>\n",
       "      <td>0</td>\n",
       "      <td>0</td>\n",
       "      <td>0</td>\n",
       "      <td>1</td>\n",
       "      <td>0</td>\n",
       "    </tr>\n",
       "    <tr>\n",
       "      <th>2775</th>\n",
       "      <td>30</td>\n",
       "      <td>69.0</td>\n",
       "      <td>12366</td>\n",
       "      <td>1</td>\n",
       "      <td>0</td>\n",
       "      <td>0</td>\n",
       "      <td>3</td>\n",
       "      <td>5</td>\n",
       "      <td>1945</td>\n",
       "      <td>1950</td>\n",
       "      <td>...</td>\n",
       "      <td>0</td>\n",
       "      <td>0</td>\n",
       "      <td>0</td>\n",
       "      <td>0</td>\n",
       "      <td>1</td>\n",
       "      <td>0</td>\n",
       "      <td>0</td>\n",
       "      <td>0</td>\n",
       "      <td>0</td>\n",
       "      <td>0</td>\n",
       "    </tr>\n",
       "    <tr>\n",
       "      <th>2776</th>\n",
       "      <td>20</td>\n",
       "      <td>50.0</td>\n",
       "      <td>9000</td>\n",
       "      <td>1</td>\n",
       "      <td>0</td>\n",
       "      <td>0</td>\n",
       "      <td>2</td>\n",
       "      <td>3</td>\n",
       "      <td>1949</td>\n",
       "      <td>1950</td>\n",
       "      <td>...</td>\n",
       "      <td>0</td>\n",
       "      <td>0</td>\n",
       "      <td>0</td>\n",
       "      <td>0</td>\n",
       "      <td>1</td>\n",
       "      <td>0</td>\n",
       "      <td>0</td>\n",
       "      <td>0</td>\n",
       "      <td>0</td>\n",
       "      <td>0</td>\n",
       "    </tr>\n",
       "    <tr>\n",
       "      <th>2778</th>\n",
       "      <td>50</td>\n",
       "      <td>60.0</td>\n",
       "      <td>8520</td>\n",
       "      <td>0</td>\n",
       "      <td>0</td>\n",
       "      <td>0</td>\n",
       "      <td>3</td>\n",
       "      <td>5</td>\n",
       "      <td>1916</td>\n",
       "      <td>1950</td>\n",
       "      <td>...</td>\n",
       "      <td>0</td>\n",
       "      <td>0</td>\n",
       "      <td>0</td>\n",
       "      <td>0</td>\n",
       "      <td>1</td>\n",
       "      <td>0</td>\n",
       "      <td>0</td>\n",
       "      <td>0</td>\n",
       "      <td>1</td>\n",
       "      <td>0</td>\n",
       "    </tr>\n",
       "  </tbody>\n",
       "</table>\n",
       "<p>356 rows × 210 columns</p>\n",
       "</div>"
      ],
      "text/plain": [
       "      MS SubClass  Lot Frontage  Lot Area  Street  Lot Shape  Land Slope  \\\n",
       "79             30          70.0      9800       1          0           0   \n",
       "124            50         120.0     17360       1          0           0   \n",
       "153            50          78.0     17503       1          0           0   \n",
       "166            30          56.0      4485       1          0           0   \n",
       "167            30          56.0      8960       1          0           0   \n",
       "...           ...           ...       ...     ...        ...         ...   \n",
       "2772           30          50.0      8765       1          0           0   \n",
       "2774           50          60.0     11040       1          0           1   \n",
       "2775           30          69.0     12366       1          0           0   \n",
       "2776           20          50.0      9000       1          0           0   \n",
       "2778           50          60.0      8520       0          0           0   \n",
       "\n",
       "      Overall Qual  Overall Cond  Year Built  Year Remod/Add  ...  \\\n",
       "79               5             5        1920            1950  ...   \n",
       "124              6             6        1949            1950  ...   \n",
       "153              6             5        1948            1950  ...   \n",
       "166              5             7        1920            1950  ...   \n",
       "167              5             6        1927            1950  ...   \n",
       "...            ...           ...         ...             ...  ...   \n",
       "2772             4             6        1936            1950  ...   \n",
       "2774             4             6        1920            1950  ...   \n",
       "2775             3             5        1945            1950  ...   \n",
       "2776             2             3        1949            1950  ...   \n",
       "2778             3             5        1916            1950  ...   \n",
       "\n",
       "      Sale Type_ConLw  Sale Type_New  Sale Type_Oth  Sale Type_VWD  \\\n",
       "79                  0              0              0              0   \n",
       "124                 0              0              0              0   \n",
       "153                 0              0              0              0   \n",
       "166                 0              0              0              0   \n",
       "167                 0              0              0              0   \n",
       "...               ...            ...            ...            ...   \n",
       "2772                0              0              0              0   \n",
       "2774                0              0              0              0   \n",
       "2775                0              0              0              0   \n",
       "2776                0              0              0              0   \n",
       "2778                0              0              0              0   \n",
       "\n",
       "      Sale Type_WD   Sale Condition_AdjLand  Sale Condition_Alloca  \\\n",
       "79                1                       0                      0   \n",
       "124               1                       0                      0   \n",
       "153               1                       0                      0   \n",
       "166               1                       0                      0   \n",
       "167               1                       0                      0   \n",
       "...             ...                     ...                    ...   \n",
       "2772              1                       0                      0   \n",
       "2774              0                       0                      0   \n",
       "2775              1                       0                      0   \n",
       "2776              1                       0                      0   \n",
       "2778              1                       0                      0   \n",
       "\n",
       "      Sale Condition_Family  Sale Condition_Normal  Sale Condition_Partial  \n",
       "79                        0                      1                       0  \n",
       "124                       0                      1                       0  \n",
       "153                       0                      0                       0  \n",
       "166                       0                      1                       0  \n",
       "167                       0                      1                       0  \n",
       "...                     ...                    ...                     ...  \n",
       "2772                      0                      0                       0  \n",
       "2774                      0                      1                       0  \n",
       "2775                      0                      0                       0  \n",
       "2776                      0                      0                       0  \n",
       "2778                      0                      1                       0  \n",
       "\n",
       "[356 rows x 210 columns]"
      ]
     },
     "execution_count": 19,
     "metadata": {},
     "output_type": "execute_result"
    }
   ],
   "source": [
    "df[df['Year Remod/Add'] == df['Year Remod/Add'].min()]"
   ]
  },
  {
   "cell_type": "code",
   "execution_count": 21,
   "id": "544a74f0",
   "metadata": {},
   "outputs": [
    {
     "data": {
      "text/html": [
       "<div>\n",
       "<style scoped>\n",
       "    .dataframe tbody tr th:only-of-type {\n",
       "        vertical-align: middle;\n",
       "    }\n",
       "\n",
       "    .dataframe tbody tr th {\n",
       "        vertical-align: top;\n",
       "    }\n",
       "\n",
       "    .dataframe thead th {\n",
       "        text-align: right;\n",
       "    }\n",
       "</style>\n",
       "<table border=\"1\" class=\"dataframe\">\n",
       "  <thead>\n",
       "    <tr style=\"text-align: right;\">\n",
       "      <th></th>\n",
       "      <th>MS SubClass</th>\n",
       "      <th>Lot Frontage</th>\n",
       "      <th>Lot Area</th>\n",
       "      <th>Street</th>\n",
       "      <th>Lot Shape</th>\n",
       "      <th>Land Slope</th>\n",
       "      <th>Overall Qual</th>\n",
       "      <th>Overall Cond</th>\n",
       "      <th>Year Built</th>\n",
       "      <th>Year Remod/Add</th>\n",
       "      <th>...</th>\n",
       "      <th>Sale Type_ConLw</th>\n",
       "      <th>Sale Type_New</th>\n",
       "      <th>Sale Type_Oth</th>\n",
       "      <th>Sale Type_VWD</th>\n",
       "      <th>Sale Type_WD</th>\n",
       "      <th>Sale Condition_AdjLand</th>\n",
       "      <th>Sale Condition_Alloca</th>\n",
       "      <th>Sale Condition_Family</th>\n",
       "      <th>Sale Condition_Normal</th>\n",
       "      <th>Sale Condition_Partial</th>\n",
       "    </tr>\n",
       "  </thead>\n",
       "  <tbody>\n",
       "    <tr>\n",
       "      <th>16</th>\n",
       "      <td>20</td>\n",
       "      <td>88.00000</td>\n",
       "      <td>11394</td>\n",
       "      <td>1</td>\n",
       "      <td>0</td>\n",
       "      <td>0</td>\n",
       "      <td>9</td>\n",
       "      <td>2</td>\n",
       "      <td>2010</td>\n",
       "      <td>2010</td>\n",
       "      <td>...</td>\n",
       "      <td>0</td>\n",
       "      <td>1</td>\n",
       "      <td>0</td>\n",
       "      <td>0</td>\n",
       "      <td>0</td>\n",
       "      <td>0</td>\n",
       "      <td>0</td>\n",
       "      <td>0</td>\n",
       "      <td>0</td>\n",
       "      <td>1</td>\n",
       "    </tr>\n",
       "    <tr>\n",
       "      <th>35</th>\n",
       "      <td>60</td>\n",
       "      <td>102.00000</td>\n",
       "      <td>12858</td>\n",
       "      <td>1</td>\n",
       "      <td>1</td>\n",
       "      <td>0</td>\n",
       "      <td>9</td>\n",
       "      <td>5</td>\n",
       "      <td>2009</td>\n",
       "      <td>2010</td>\n",
       "      <td>...</td>\n",
       "      <td>0</td>\n",
       "      <td>1</td>\n",
       "      <td>0</td>\n",
       "      <td>0</td>\n",
       "      <td>0</td>\n",
       "      <td>0</td>\n",
       "      <td>0</td>\n",
       "      <td>0</td>\n",
       "      <td>0</td>\n",
       "      <td>1</td>\n",
       "    </tr>\n",
       "    <tr>\n",
       "      <th>37</th>\n",
       "      <td>20</td>\n",
       "      <td>83.00000</td>\n",
       "      <td>10159</td>\n",
       "      <td>1</td>\n",
       "      <td>1</td>\n",
       "      <td>0</td>\n",
       "      <td>9</td>\n",
       "      <td>5</td>\n",
       "      <td>2009</td>\n",
       "      <td>2010</td>\n",
       "      <td>...</td>\n",
       "      <td>0</td>\n",
       "      <td>1</td>\n",
       "      <td>0</td>\n",
       "      <td>0</td>\n",
       "      <td>0</td>\n",
       "      <td>0</td>\n",
       "      <td>0</td>\n",
       "      <td>0</td>\n",
       "      <td>0</td>\n",
       "      <td>1</td>\n",
       "    </tr>\n",
       "    <tr>\n",
       "      <th>38</th>\n",
       "      <td>20</td>\n",
       "      <td>94.00000</td>\n",
       "      <td>12883</td>\n",
       "      <td>1</td>\n",
       "      <td>1</td>\n",
       "      <td>0</td>\n",
       "      <td>8</td>\n",
       "      <td>5</td>\n",
       "      <td>2009</td>\n",
       "      <td>2010</td>\n",
       "      <td>...</td>\n",
       "      <td>0</td>\n",
       "      <td>1</td>\n",
       "      <td>0</td>\n",
       "      <td>0</td>\n",
       "      <td>0</td>\n",
       "      <td>0</td>\n",
       "      <td>0</td>\n",
       "      <td>0</td>\n",
       "      <td>0</td>\n",
       "      <td>1</td>\n",
       "    </tr>\n",
       "    <tr>\n",
       "      <th>43</th>\n",
       "      <td>120</td>\n",
       "      <td>44.00000</td>\n",
       "      <td>6371</td>\n",
       "      <td>1</td>\n",
       "      <td>1</td>\n",
       "      <td>0</td>\n",
       "      <td>7</td>\n",
       "      <td>5</td>\n",
       "      <td>2009</td>\n",
       "      <td>2010</td>\n",
       "      <td>...</td>\n",
       "      <td>0</td>\n",
       "      <td>1</td>\n",
       "      <td>0</td>\n",
       "      <td>0</td>\n",
       "      <td>0</td>\n",
       "      <td>0</td>\n",
       "      <td>0</td>\n",
       "      <td>0</td>\n",
       "      <td>0</td>\n",
       "      <td>1</td>\n",
       "    </tr>\n",
       "    <tr>\n",
       "      <th>64</th>\n",
       "      <td>20</td>\n",
       "      <td>92.00000</td>\n",
       "      <td>9215</td>\n",
       "      <td>1</td>\n",
       "      <td>0</td>\n",
       "      <td>0</td>\n",
       "      <td>7</td>\n",
       "      <td>5</td>\n",
       "      <td>2009</td>\n",
       "      <td>2010</td>\n",
       "      <td>...</td>\n",
       "      <td>0</td>\n",
       "      <td>1</td>\n",
       "      <td>0</td>\n",
       "      <td>0</td>\n",
       "      <td>0</td>\n",
       "      <td>0</td>\n",
       "      <td>0</td>\n",
       "      <td>0</td>\n",
       "      <td>0</td>\n",
       "      <td>1</td>\n",
       "    </tr>\n",
       "    <tr>\n",
       "      <th>85</th>\n",
       "      <td>20</td>\n",
       "      <td>74.55102</td>\n",
       "      <td>6897</td>\n",
       "      <td>1</td>\n",
       "      <td>1</td>\n",
       "      <td>0</td>\n",
       "      <td>5</td>\n",
       "      <td>8</td>\n",
       "      <td>1962</td>\n",
       "      <td>2010</td>\n",
       "      <td>...</td>\n",
       "      <td>0</td>\n",
       "      <td>0</td>\n",
       "      <td>0</td>\n",
       "      <td>0</td>\n",
       "      <td>1</td>\n",
       "      <td>0</td>\n",
       "      <td>0</td>\n",
       "      <td>0</td>\n",
       "      <td>1</td>\n",
       "      <td>0</td>\n",
       "    </tr>\n",
       "    <tr>\n",
       "      <th>100</th>\n",
       "      <td>20</td>\n",
       "      <td>57.00000</td>\n",
       "      <td>12853</td>\n",
       "      <td>1</td>\n",
       "      <td>1</td>\n",
       "      <td>0</td>\n",
       "      <td>8</td>\n",
       "      <td>5</td>\n",
       "      <td>2010</td>\n",
       "      <td>2010</td>\n",
       "      <td>...</td>\n",
       "      <td>0</td>\n",
       "      <td>1</td>\n",
       "      <td>0</td>\n",
       "      <td>0</td>\n",
       "      <td>0</td>\n",
       "      <td>0</td>\n",
       "      <td>0</td>\n",
       "      <td>0</td>\n",
       "      <td>0</td>\n",
       "      <td>1</td>\n",
       "    </tr>\n",
       "    <tr>\n",
       "      <th>235</th>\n",
       "      <td>20</td>\n",
       "      <td>44.00000</td>\n",
       "      <td>17485</td>\n",
       "      <td>1</td>\n",
       "      <td>2</td>\n",
       "      <td>0</td>\n",
       "      <td>7</td>\n",
       "      <td>5</td>\n",
       "      <td>2009</td>\n",
       "      <td>2010</td>\n",
       "      <td>...</td>\n",
       "      <td>0</td>\n",
       "      <td>0</td>\n",
       "      <td>0</td>\n",
       "      <td>0</td>\n",
       "      <td>0</td>\n",
       "      <td>0</td>\n",
       "      <td>0</td>\n",
       "      <td>0</td>\n",
       "      <td>0</td>\n",
       "      <td>1</td>\n",
       "    </tr>\n",
       "    <tr>\n",
       "      <th>245</th>\n",
       "      <td>20</td>\n",
       "      <td>64.00000</td>\n",
       "      <td>7360</td>\n",
       "      <td>1</td>\n",
       "      <td>0</td>\n",
       "      <td>0</td>\n",
       "      <td>7</td>\n",
       "      <td>5</td>\n",
       "      <td>2010</td>\n",
       "      <td>2010</td>\n",
       "      <td>...</td>\n",
       "      <td>0</td>\n",
       "      <td>0</td>\n",
       "      <td>0</td>\n",
       "      <td>0</td>\n",
       "      <td>1</td>\n",
       "      <td>0</td>\n",
       "      <td>0</td>\n",
       "      <td>0</td>\n",
       "      <td>1</td>\n",
       "      <td>0</td>\n",
       "    </tr>\n",
       "    <tr>\n",
       "      <th>308</th>\n",
       "      <td>20</td>\n",
       "      <td>73.00000</td>\n",
       "      <td>9803</td>\n",
       "      <td>1</td>\n",
       "      <td>0</td>\n",
       "      <td>0</td>\n",
       "      <td>7</td>\n",
       "      <td>5</td>\n",
       "      <td>2009</td>\n",
       "      <td>2010</td>\n",
       "      <td>...</td>\n",
       "      <td>0</td>\n",
       "      <td>1</td>\n",
       "      <td>0</td>\n",
       "      <td>0</td>\n",
       "      <td>0</td>\n",
       "      <td>0</td>\n",
       "      <td>0</td>\n",
       "      <td>0</td>\n",
       "      <td>0</td>\n",
       "      <td>1</td>\n",
       "    </tr>\n",
       "    <tr>\n",
       "      <th>310</th>\n",
       "      <td>60</td>\n",
       "      <td>92.00000</td>\n",
       "      <td>12003</td>\n",
       "      <td>1</td>\n",
       "      <td>0</td>\n",
       "      <td>0</td>\n",
       "      <td>8</td>\n",
       "      <td>5</td>\n",
       "      <td>2009</td>\n",
       "      <td>2010</td>\n",
       "      <td>...</td>\n",
       "      <td>0</td>\n",
       "      <td>1</td>\n",
       "      <td>0</td>\n",
       "      <td>0</td>\n",
       "      <td>0</td>\n",
       "      <td>0</td>\n",
       "      <td>0</td>\n",
       "      <td>0</td>\n",
       "      <td>0</td>\n",
       "      <td>1</td>\n",
       "    </tr>\n",
       "  </tbody>\n",
       "</table>\n",
       "<p>12 rows × 210 columns</p>\n",
       "</div>"
      ],
      "text/plain": [
       "     MS SubClass  Lot Frontage  Lot Area  Street  Lot Shape  Land Slope  \\\n",
       "16            20      88.00000     11394       1          0           0   \n",
       "35            60     102.00000     12858       1          1           0   \n",
       "37            20      83.00000     10159       1          1           0   \n",
       "38            20      94.00000     12883       1          1           0   \n",
       "43           120      44.00000      6371       1          1           0   \n",
       "64            20      92.00000      9215       1          0           0   \n",
       "85            20      74.55102      6897       1          1           0   \n",
       "100           20      57.00000     12853       1          1           0   \n",
       "235           20      44.00000     17485       1          2           0   \n",
       "245           20      64.00000      7360       1          0           0   \n",
       "308           20      73.00000      9803       1          0           0   \n",
       "310           60      92.00000     12003       1          0           0   \n",
       "\n",
       "     Overall Qual  Overall Cond  Year Built  Year Remod/Add  ...  \\\n",
       "16              9             2        2010            2010  ...   \n",
       "35              9             5        2009            2010  ...   \n",
       "37              9             5        2009            2010  ...   \n",
       "38              8             5        2009            2010  ...   \n",
       "43              7             5        2009            2010  ...   \n",
       "64              7             5        2009            2010  ...   \n",
       "85              5             8        1962            2010  ...   \n",
       "100             8             5        2010            2010  ...   \n",
       "235             7             5        2009            2010  ...   \n",
       "245             7             5        2010            2010  ...   \n",
       "308             7             5        2009            2010  ...   \n",
       "310             8             5        2009            2010  ...   \n",
       "\n",
       "     Sale Type_ConLw  Sale Type_New  Sale Type_Oth  Sale Type_VWD  \\\n",
       "16                 0              1              0              0   \n",
       "35                 0              1              0              0   \n",
       "37                 0              1              0              0   \n",
       "38                 0              1              0              0   \n",
       "43                 0              1              0              0   \n",
       "64                 0              1              0              0   \n",
       "85                 0              0              0              0   \n",
       "100                0              1              0              0   \n",
       "235                0              0              0              0   \n",
       "245                0              0              0              0   \n",
       "308                0              1              0              0   \n",
       "310                0              1              0              0   \n",
       "\n",
       "     Sale Type_WD   Sale Condition_AdjLand  Sale Condition_Alloca  \\\n",
       "16               0                       0                      0   \n",
       "35               0                       0                      0   \n",
       "37               0                       0                      0   \n",
       "38               0                       0                      0   \n",
       "43               0                       0                      0   \n",
       "64               0                       0                      0   \n",
       "85               1                       0                      0   \n",
       "100              0                       0                      0   \n",
       "235              0                       0                      0   \n",
       "245              1                       0                      0   \n",
       "308              0                       0                      0   \n",
       "310              0                       0                      0   \n",
       "\n",
       "     Sale Condition_Family  Sale Condition_Normal  Sale Condition_Partial  \n",
       "16                       0                      0                       1  \n",
       "35                       0                      0                       1  \n",
       "37                       0                      0                       1  \n",
       "38                       0                      0                       1  \n",
       "43                       0                      0                       1  \n",
       "64                       0                      0                       1  \n",
       "85                       0                      1                       0  \n",
       "100                      0                      0                       1  \n",
       "235                      0                      0                       1  \n",
       "245                      0                      1                       0  \n",
       "308                      0                      0                       1  \n",
       "310                      0                      0                       1  \n",
       "\n",
       "[12 rows x 210 columns]"
      ]
     },
     "execution_count": 21,
     "metadata": {},
     "output_type": "execute_result"
    }
   ],
   "source": [
    "df[df['Year Remod/Add'] == df['Year Remod/Add'].max()]"
   ]
  },
  {
   "cell_type": "code",
   "execution_count": 13,
   "id": "b5e8bb55",
   "metadata": {},
   "outputs": [
    {
     "data": {
      "text/plain": [
       "5"
      ]
     },
     "execution_count": 13,
     "metadata": {},
     "output_type": "execute_result"
    }
   ],
   "source": [
    "df['Fireplace Qu'].max()"
   ]
  },
  {
   "cell_type": "code",
   "execution_count": 31,
   "id": "ae67661d",
   "metadata": {},
   "outputs": [
    {
     "data": {
      "text/plain": [
       "0"
      ]
     },
     "execution_count": 31,
     "metadata": {},
     "output_type": "execute_result"
    }
   ],
   "source": [
    "df['Fireplace Qu'].min()"
   ]
  },
  {
   "cell_type": "code",
   "execution_count": 30,
   "id": "236cbda5",
   "metadata": {},
   "outputs": [
    {
     "data": {
      "text/plain": [
       "0"
      ]
     },
     "execution_count": 30,
     "metadata": {},
     "output_type": "execute_result"
    }
   ],
   "source": [
    "df['Kitchen Qual'].min()"
   ]
  },
  {
   "cell_type": "code",
   "execution_count": 14,
   "id": "8fd39440",
   "metadata": {},
   "outputs": [
    {
     "data": {
      "text/plain": [
       "4"
      ]
     },
     "execution_count": 14,
     "metadata": {},
     "output_type": "execute_result"
    }
   ],
   "source": [
    "df['Kitchen Qual'].max()"
   ]
  },
  {
   "cell_type": "code",
   "execution_count": 15,
   "id": "698d5791",
   "metadata": {},
   "outputs": [
    {
     "data": {
      "text/plain": [
       "3395"
      ]
     },
     "execution_count": 15,
     "metadata": {},
     "output_type": "execute_result"
    }
   ],
   "source": [
    "df['Gr Liv Area'].max()"
   ]
  },
  {
   "cell_type": "code",
   "execution_count": 32,
   "id": "e6f7f41b",
   "metadata": {},
   "outputs": [
    {
     "data": {
      "text/plain": [
       "0"
      ]
     },
     "execution_count": 32,
     "metadata": {},
     "output_type": "execute_result"
    }
   ],
   "source": [
    "df['Bsmt Qual'].min()"
   ]
  },
  {
   "cell_type": "code",
   "execution_count": 19,
   "id": "c34bf5cd",
   "metadata": {},
   "outputs": [
    {
     "data": {
      "text/plain": [
       "5"
      ]
     },
     "execution_count": 19,
     "metadata": {},
     "output_type": "execute_result"
    }
   ],
   "source": [
    "df['Bsmt Qual'].max()"
   ]
  },
  {
   "cell_type": "code",
   "execution_count": 33,
   "id": "7b89f46b",
   "metadata": {},
   "outputs": [
    {
     "data": {
      "text/plain": [
       "1"
      ]
     },
     "execution_count": 33,
     "metadata": {},
     "output_type": "execute_result"
    }
   ],
   "source": [
    "df['Exter Qual'].min()"
   ]
  },
  {
   "cell_type": "code",
   "execution_count": 20,
   "id": "28d44957",
   "metadata": {},
   "outputs": [
    {
     "data": {
      "text/plain": [
       "4"
      ]
     },
     "execution_count": 20,
     "metadata": {},
     "output_type": "execute_result"
    }
   ],
   "source": [
    "df['Exter Qual'].max()"
   ]
  },
  {
   "cell_type": "code",
   "execution_count": 4,
   "id": "ba9f305c",
   "metadata": {},
   "outputs": [
    {
     "data": {
      "text/plain": [
       "0"
      ]
     },
     "execution_count": 4,
     "metadata": {},
     "output_type": "execute_result"
    }
   ],
   "source": [
    "df['Bsmt Exposure'].min()"
   ]
  },
  {
   "cell_type": "code",
   "execution_count": 8,
   "id": "f1a47f78",
   "metadata": {},
   "outputs": [
    {
     "data": {
      "text/plain": [
       "1836.0"
      ]
     },
     "execution_count": 8,
     "metadata": {},
     "output_type": "execute_result"
    }
   ],
   "source": [
    "df['BsmtFin SF 1'].max()"
   ]
  },
  {
   "cell_type": "code",
   "execution_count": 11,
   "id": "2eb865b0",
   "metadata": {},
   "outputs": [
    {
     "data": {
      "text/plain": [
       "2217.0"
      ]
     },
     "execution_count": 11,
     "metadata": {},
     "output_type": "execute_result"
    }
   ],
   "source": [
    "df['Total Bsmt SF'].max()"
   ]
  },
  {
   "cell_type": "code",
   "execution_count": 16,
   "id": "f5d3caa9",
   "metadata": {},
   "outputs": [
    {
     "data": {
      "text/plain": [
       "334"
      ]
     },
     "execution_count": 16,
     "metadata": {},
     "output_type": "execute_result"
    }
   ],
   "source": [
    "df['1st Flr SF'].min()"
   ]
  },
  {
   "cell_type": "code",
   "execution_count": 17,
   "id": "4327a3ef",
   "metadata": {},
   "outputs": [
    {
     "data": {
      "text/plain": [
       "334"
      ]
     },
     "execution_count": 17,
     "metadata": {},
     "output_type": "execute_result"
    }
   ],
   "source": [
    "df['Gr Liv Area'].min()"
   ]
  },
  {
   "cell_type": "code",
   "execution_count": 20,
   "id": "e587a9d2",
   "metadata": {},
   "outputs": [
    {
     "data": {
      "text/plain": [
       "3"
      ]
     },
     "execution_count": 20,
     "metadata": {},
     "output_type": "execute_result"
    }
   ],
   "source": [
    "df['Garage Finish'].max()"
   ]
  },
  {
   "cell_type": "code",
   "execution_count": 21,
   "id": "8a4b6707",
   "metadata": {},
   "outputs": [
    {
     "data": {
      "text/plain": [
       "3.0"
      ]
     },
     "execution_count": 21,
     "metadata": {},
     "output_type": "execute_result"
    }
   ],
   "source": [
    "df['Garage Cars'].max()"
   ]
  },
  {
   "cell_type": "code",
   "execution_count": 26,
   "id": "24a02aa2",
   "metadata": {},
   "outputs": [
    {
     "data": {
      "text/plain": [
       "1"
      ]
     },
     "execution_count": 26,
     "metadata": {},
     "output_type": "execute_result"
    }
   ],
   "source": [
    "df['Neighborhood_NridgHt'].max()"
   ]
  },
  {
   "cell_type": "code",
   "execution_count": 25,
   "id": "79921f49",
   "metadata": {},
   "outputs": [
    {
     "data": {
      "text/plain": [
       "1"
      ]
     },
     "execution_count": 25,
     "metadata": {},
     "output_type": "execute_result"
    }
   ],
   "source": [
    "df['Sale Condition_Partial'].max()"
   ]
  },
  {
   "cell_type": "code",
   "execution_count": 29,
   "id": "f7a4ea12",
   "metadata": {},
   "outputs": [
    {
     "data": {
      "text/plain": [
       "1"
      ]
     },
     "execution_count": 29,
     "metadata": {},
     "output_type": "execute_result"
    }
   ],
   "source": [
    "df['Overall Qual'].min()"
   ]
  },
  {
   "cell_type": "code",
   "execution_count": null,
   "id": "5edefdf2",
   "metadata": {},
   "outputs": [],
   "source": []
  },
  {
   "cell_type": "code",
   "execution_count": 7,
   "id": "849b8432",
   "metadata": {},
   "outputs": [],
   "source": [
    "X = df.drop('SalePrice', axis = 1)\n",
    "y = df['SalePrice']\n",
    "\n",
    "from sklearn.model_selection import train_test_split\n",
    "X_train, X_test, y_train, y_test = train_test_split(X, y, test_size=0.3)\n",
    "\n",
    "from sklearn.preprocessing import StandardScaler\n",
    "scaler = StandardScaler()\n",
    "scaler.fit(X_train)\n",
    "X_train = scaler.transform(X_train)\n",
    "X_test = scaler.transform(X_test)"
   ]
  },
  {
   "cell_type": "code",
   "execution_count": 5,
   "id": "8126ce9c",
   "metadata": {},
   "outputs": [],
   "source": [
    "from sklearn.linear_model import LassoCV"
   ]
  },
  {
   "cell_type": "code",
   "execution_count": 24,
   "id": "22c49b63",
   "metadata": {},
   "outputs": [],
   "source": [
    "lasso_cv_model = LassoCV(eps = 0.1, n_alphas = 100, cv = 5)"
   ]
  },
  {
   "cell_type": "code",
   "execution_count": 25,
   "id": "6ff079b6",
   "metadata": {},
   "outputs": [
    {
     "data": {
      "text/plain": [
       "LassoCV(cv=5, eps=0.1)"
      ]
     },
     "execution_count": 25,
     "metadata": {},
     "output_type": "execute_result"
    }
   ],
   "source": [
    "lasso_cv_model.fit(X_train, y_train)"
   ]
  },
  {
   "cell_type": "code",
   "execution_count": 26,
   "id": "dcc129fa",
   "metadata": {},
   "outputs": [
    {
     "data": {
      "text/plain": [
       "5626.778928688413"
      ]
     },
     "execution_count": 26,
     "metadata": {},
     "output_type": "execute_result"
    }
   ],
   "source": [
    "lasso_cv_model.alpha_"
   ]
  },
  {
   "cell_type": "code",
   "execution_count": 27,
   "id": "9a6195dd",
   "metadata": {},
   "outputs": [],
   "source": [
    "test_predictions = lasso_cv_model.predict(X_test)"
   ]
  },
  {
   "cell_type": "code",
   "execution_count": 28,
   "id": "24511ac7",
   "metadata": {},
   "outputs": [],
   "source": [
    "from sklearn.metrics import mean_squared_error"
   ]
  },
  {
   "cell_type": "code",
   "execution_count": 29,
   "id": "f982ba21",
   "metadata": {},
   "outputs": [],
   "source": [
    "MSE = mean_squared_error(y_test, test_predictions)\n",
    "RMSE = np.sqrt(MSE)"
   ]
  },
  {
   "cell_type": "code",
   "execution_count": 30,
   "id": "9c822643",
   "metadata": {},
   "outputs": [
    {
     "data": {
      "text/plain": [
       "668832706.7073733"
      ]
     },
     "execution_count": 30,
     "metadata": {},
     "output_type": "execute_result"
    }
   ],
   "source": [
    "MSE"
   ]
  },
  {
   "cell_type": "code",
   "execution_count": 31,
   "id": "d6ac27ee",
   "metadata": {},
   "outputs": [
    {
     "data": {
      "text/plain": [
       "25861.800144370718"
      ]
     },
     "execution_count": 31,
     "metadata": {},
     "output_type": "execute_result"
    }
   ],
   "source": [
    "RMSE"
   ]
  },
  {
   "cell_type": "code",
   "execution_count": 32,
   "id": "eb8d4bb3",
   "metadata": {},
   "outputs": [
    {
     "data": {
      "text/plain": [
       "array([   -0.        ,   327.74996857,    21.49908712,     0.        ,\n",
       "           0.        ,     0.        , 17981.82569432,     0.        ,\n",
       "        3151.83271868,   887.74749803,     0.        ,  6282.81343739,\n",
       "           0.        ,  1127.18075207,     0.        ,  1134.90360812,\n",
       "           0.        ,  7859.12263501,     0.        ,     0.        ,\n",
       "          -0.        ,  4366.86843443,     0.        ,     0.        ,\n",
       "        3119.74648954,     0.        ,    -0.        , 17501.24777273,\n",
       "           0.        ,    -0.        ,     0.        ,     0.        ,\n",
       "          -0.        ,    -0.        ,  5479.77183389,     0.        ,\n",
       "           0.        ,  2262.14802734,     0.        ,  1315.62061552,\n",
       "         943.22680016,  4939.07441859,     0.        ,     0.        ,\n",
       "           0.        ,     0.        ,     0.        ,    -0.        ,\n",
       "           0.        ,     0.        ,     0.        ,     0.        ,\n",
       "           0.        ,    -0.        ,    -0.        ,     0.        ,\n",
       "          -0.        ,    -0.        ,     0.        ,    -0.        ,\n",
       "           0.        ,     0.        ,    -0.        ,     0.        ,\n",
       "          -0.        ,     0.        ,    -0.        ,     0.        ,\n",
       "          -0.        ,    -0.        ,    -0.        ,    -0.        ,\n",
       "           0.        ,    -0.        ,     0.        ,    -0.        ,\n",
       "          -0.        ,    -0.        ,     0.        ,    -0.        ,\n",
       "          -0.        ,    -0.        ,    -0.        ,    -0.        ,\n",
       "          -0.        ,    -0.        ,     0.        ,  1532.83142653,\n",
       "          -0.        ,    -0.        ,    -0.        ,    -0.        ,\n",
       "           0.        ,     0.        ,     0.        ,     0.        ,\n",
       "          -0.        ,     0.        ,     0.        ,     0.        ,\n",
       "          -0.        ,     0.        ,    -0.        ,     0.        ,\n",
       "          -0.        ,    -0.        ,     0.        ,     0.        ,\n",
       "          -0.        ,     0.        ,     0.        ,    -0.        ,\n",
       "          -0.        ,    -0.        ,    -0.        ,    -0.        ,\n",
       "           0.        ,    -0.        ,    -0.        ,     0.        ,\n",
       "          -0.        ,    -0.        ,    -0.        ,    -0.        ,\n",
       "           0.        ,    -0.        ,    -0.        ,     0.        ,\n",
       "           0.        ,    -0.        ,     0.        ,     0.        ,\n",
       "          -0.        ,    -0.        ,    -0.        ,     0.        ,\n",
       "           0.        ,     0.        ,    -0.        ,     0.        ,\n",
       "          -0.        ,    -0.        ,     0.        ,     0.        ,\n",
       "          -0.        ,     0.        ,    -0.        ,    -0.        ,\n",
       "           0.        ,    -0.        ,    -0.        ,     0.        ,\n",
       "           0.        ,    -0.        ,    -0.        ,    -0.        ,\n",
       "           0.        ,    -0.        ,     0.        ,     0.        ,\n",
       "          -0.        ,     0.        ,    -0.        ,    -0.        ,\n",
       "           0.        ,    -0.        ,    -0.        ,     0.        ,\n",
       "          -0.        ,     0.        ,     0.        ,     0.        ,\n",
       "          -0.        ,     0.        ,    -0.        ,    -0.        ,\n",
       "          -0.        ,     0.        ,    -0.        ,    -0.        ,\n",
       "          -0.        ,     0.        ,    -0.        ,    -0.        ,\n",
       "          -0.        ,    -0.        ,    -0.        ,    -0.        ,\n",
       "           0.        ,     0.        ,    -0.        ,     0.        ,\n",
       "          -0.        ,    -0.        ,    -0.        ,     0.        ,\n",
       "           0.        ,    -0.        ,     0.        ,    -0.        ,\n",
       "           0.        ,    -0.        ,     0.        ,    -0.        ,\n",
       "          -0.        ,     0.        ,    -0.        ,    -0.        ,\n",
       "        1472.0979229 ])"
      ]
     },
     "execution_count": 32,
     "metadata": {},
     "output_type": "execute_result"
    }
   ],
   "source": [
    "lasso_cv_model.coef_"
   ]
  },
  {
   "cell_type": "code",
   "execution_count": 38,
   "id": "09d47e5d",
   "metadata": {},
   "outputs": [
    {
     "data": {
      "text/plain": [
       "array([  327.74996857,    21.49908712, 17981.82569432,  3151.83271868,\n",
       "         887.74749803,  6282.81343739,  1127.18075207,  1134.90360812,\n",
       "        7859.12263501,  4366.86843443,  3119.74648954, 17501.24777273,\n",
       "        5479.77183389,  2262.14802734,  1315.62061552,   943.22680016,\n",
       "        4939.07441859,  1532.83142653,  1472.0979229 ])"
      ]
     },
     "execution_count": 38,
     "metadata": {},
     "output_type": "execute_result"
    }
   ],
   "source": [
    "x = lasso_cv_model.coef_\n",
    "x[x>0]"
   ]
  },
  {
   "cell_type": "code",
   "execution_count": 35,
   "id": "8838c4a5",
   "metadata": {},
   "outputs": [
    {
     "name": "stdout",
     "output_type": "stream",
     "text": [
      "(array([1], dtype=int64),) (array([2], dtype=int64),) (array([6], dtype=int64),) (array([8], dtype=int64),) (array([9], dtype=int64),) (array([11], dtype=int64),) (array([13], dtype=int64),) (array([15], dtype=int64),) (array([17], dtype=int64),) (array([21], dtype=int64),) (array([24], dtype=int64),) (array([27], dtype=int64),) (array([34], dtype=int64),) (array([37], dtype=int64),) (array([39], dtype=int64),) (array([40], dtype=int64),) (array([41], dtype=int64),) (array([87], dtype=int64),) (array([208], dtype=int64),)\n"
     ]
    }
   ],
   "source": [
    "print(np.where(np.isclose(x, 327.74996857)), np.where(np.isclose(x, 21.49908712)), np.where(np.isclose(x, 17981.82569432)),\n",
    "np.where(np.isclose(x, 3151.83271868)), np.where(np.isclose(x, 887.74749803)), np.where(np.isclose(x, 6282.81343739)),\n",
    "np.where(np.isclose(x, 1127.18075207)), np.where(np.isclose(x, 1134.90360812)), np.where(np.isclose(x, 7859.12263501)),\n",
    "np.where(np.isclose(x, 4366.86843443)), np.where(np.isclose(x, 3119.74648954)), np.where(np.isclose(x, 17501.24777273)),\n",
    "np.where(np.isclose(x, 5479.77183389)), np.where(np.isclose(x, 2262.14802734)), np.where(np.isclose(x, 1315.62061552)),\n",
    "np.where(np.isclose(x, 943.22680016)),np.where(np.isclose(x, 4939.07441859)),np.where(np.isclose(x, 1532.83142653)),\n",
    "np.where(np.isclose(x, 1472.0979229)))"
   ]
  },
  {
   "cell_type": "code",
   "execution_count": 40,
   "id": "3db5b4d5",
   "metadata": {},
   "outputs": [
    {
     "name": "stdout",
     "output_type": "stream",
     "text": [
      "Lot Frontage,Lot Area,Overall Qual,Year Built,Year Remod/Add,Exter Qual,Bsmt Qual,Bsmt Exposure,BsmtFin SF 1,Total Bsmt SF,1st Flr SF,Gr Liv Area,Kitchen Qual,Fireplace Qu,Garage Finish,Garage Cars,Garage Area,Neighborhood_NridgHt,Sale Condition_Partial\n"
     ]
    }
   ],
   "source": [
    "arr = X.columns.values\n",
    "print(arr[1] + ',' + arr[2] + ',' + arr[6] + ',' + arr[8] + ',' + arr[9] + ',' + arr[11] + ','\n",
    "     + arr[13] + ',' + arr[15] + ',' + arr[17] + ',' + arr[21] + ',' + arr[24] + ',' \n",
    "     + arr[27] + ',' + arr[34] + ',' + arr[37] + ',' + arr[39] + ',' + arr[40] + ',' + arr[41] + \n",
    "     ',' + arr[87] + ',' + arr[208])"
   ]
  },
  {
   "cell_type": "code",
   "execution_count": null,
   "id": "fc988768",
   "metadata": {},
   "outputs": [],
   "source": []
  },
  {
   "cell_type": "code",
   "execution_count": 34,
   "id": "22fa30d7",
   "metadata": {},
   "outputs": [],
   "source": [
    "X = df.drop('SalePrice', axis = 1)\n",
    "y = df['SalePrice']\n",
    "\n",
    "from sklearn.model_selection import train_test_split\n",
    "X_train, X_test, y_train, y_test = train_test_split(X, y, test_size=0.3)\n",
    "\n",
    "from sklearn.preprocessing import StandardScaler\n",
    "scaler = StandardScaler()\n",
    "scaler.fit(X_train)\n",
    "X_train = scaler.transform(X_train)\n",
    "X_test = scaler.transform(X_test)"
   ]
  },
  {
   "cell_type": "code",
   "execution_count": 35,
   "id": "655ce6a3",
   "metadata": {},
   "outputs": [],
   "source": [
    "from sklearn.linear_model import LassoCV"
   ]
  },
  {
   "cell_type": "code",
   "execution_count": 36,
   "id": "318fcae4",
   "metadata": {},
   "outputs": [],
   "source": [
    "lasso_cv_model = LassoCV(eps = 0.1, n_alphas = 100, cv = 5)"
   ]
  },
  {
   "cell_type": "code",
   "execution_count": null,
   "id": "da4a9d43",
   "metadata": {},
   "outputs": [],
   "source": []
  }
 ],
 "metadata": {
  "kernelspec": {
   "display_name": "Python 3",
   "language": "python",
   "name": "python3"
  },
  "language_info": {
   "codemirror_mode": {
    "name": "ipython",
    "version": 3
   },
   "file_extension": ".py",
   "mimetype": "text/x-python",
   "name": "python",
   "nbconvert_exporter": "python",
   "pygments_lexer": "ipython3",
   "version": "3.7.10"
  }
 },
 "nbformat": 4,
 "nbformat_minor": 5
}
