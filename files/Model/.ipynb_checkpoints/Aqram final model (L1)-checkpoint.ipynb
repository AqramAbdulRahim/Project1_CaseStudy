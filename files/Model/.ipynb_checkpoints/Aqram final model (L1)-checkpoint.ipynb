{
 "cells": [
  {
   "cell_type": "code",
   "execution_count": 2,
   "id": "6218d226",
   "metadata": {},
   "outputs": [],
   "source": [
    "import pandas as pd\n",
    "import numpy as np\n",
    "import matplotlib.pyplot as plt\n",
    "import seaborn as sns"
   ]
  },
  {
   "cell_type": "code",
   "execution_count": 3,
   "id": "da1143bc",
   "metadata": {},
   "outputs": [],
   "source": [
    "df = pd.read_csv('Aqram_Project1_FinalClean_data.csv')"
   ]
  },
  {
   "cell_type": "code",
   "execution_count": 4,
   "id": "18751f9c",
   "metadata": {
    "scrolled": true
   },
   "outputs": [
    {
     "data": {
      "text/html": [
       "<div>\n",
       "<style scoped>\n",
       "    .dataframe tbody tr th:only-of-type {\n",
       "        vertical-align: middle;\n",
       "    }\n",
       "\n",
       "    .dataframe tbody tr th {\n",
       "        vertical-align: top;\n",
       "    }\n",
       "\n",
       "    .dataframe thead th {\n",
       "        text-align: right;\n",
       "    }\n",
       "</style>\n",
       "<table border=\"1\" class=\"dataframe\">\n",
       "  <thead>\n",
       "    <tr style=\"text-align: right;\">\n",
       "      <th></th>\n",
       "      <th>MS SubClass</th>\n",
       "      <th>Lot Frontage</th>\n",
       "      <th>Lot Area</th>\n",
       "      <th>Street</th>\n",
       "      <th>Lot Shape</th>\n",
       "      <th>Land Slope</th>\n",
       "      <th>Overall Qual</th>\n",
       "      <th>Overall Cond</th>\n",
       "      <th>Year Built</th>\n",
       "      <th>Year Remod/Add</th>\n",
       "      <th>...</th>\n",
       "      <th>Sale Type_ConLw</th>\n",
       "      <th>Sale Type_New</th>\n",
       "      <th>Sale Type_Oth</th>\n",
       "      <th>Sale Type_VWD</th>\n",
       "      <th>Sale Type_WD</th>\n",
       "      <th>Sale Condition_AdjLand</th>\n",
       "      <th>Sale Condition_Alloca</th>\n",
       "      <th>Sale Condition_Family</th>\n",
       "      <th>Sale Condition_Normal</th>\n",
       "      <th>Sale Condition_Partial</th>\n",
       "    </tr>\n",
       "  </thead>\n",
       "  <tbody>\n",
       "    <tr>\n",
       "      <th>0</th>\n",
       "      <td>20</td>\n",
       "      <td>141.0</td>\n",
       "      <td>31770</td>\n",
       "      <td>1</td>\n",
       "      <td>1</td>\n",
       "      <td>0</td>\n",
       "      <td>6</td>\n",
       "      <td>5</td>\n",
       "      <td>1960</td>\n",
       "      <td>1960</td>\n",
       "      <td>...</td>\n",
       "      <td>0</td>\n",
       "      <td>0</td>\n",
       "      <td>0</td>\n",
       "      <td>0</td>\n",
       "      <td>1</td>\n",
       "      <td>0</td>\n",
       "      <td>0</td>\n",
       "      <td>0</td>\n",
       "      <td>1</td>\n",
       "      <td>0</td>\n",
       "    </tr>\n",
       "    <tr>\n",
       "      <th>1</th>\n",
       "      <td>20</td>\n",
       "      <td>80.0</td>\n",
       "      <td>11622</td>\n",
       "      <td>1</td>\n",
       "      <td>0</td>\n",
       "      <td>0</td>\n",
       "      <td>5</td>\n",
       "      <td>6</td>\n",
       "      <td>1961</td>\n",
       "      <td>1961</td>\n",
       "      <td>...</td>\n",
       "      <td>0</td>\n",
       "      <td>0</td>\n",
       "      <td>0</td>\n",
       "      <td>0</td>\n",
       "      <td>1</td>\n",
       "      <td>0</td>\n",
       "      <td>0</td>\n",
       "      <td>0</td>\n",
       "      <td>1</td>\n",
       "      <td>0</td>\n",
       "    </tr>\n",
       "    <tr>\n",
       "      <th>2</th>\n",
       "      <td>20</td>\n",
       "      <td>81.0</td>\n",
       "      <td>14267</td>\n",
       "      <td>1</td>\n",
       "      <td>1</td>\n",
       "      <td>0</td>\n",
       "      <td>6</td>\n",
       "      <td>6</td>\n",
       "      <td>1958</td>\n",
       "      <td>1958</td>\n",
       "      <td>...</td>\n",
       "      <td>0</td>\n",
       "      <td>0</td>\n",
       "      <td>0</td>\n",
       "      <td>0</td>\n",
       "      <td>1</td>\n",
       "      <td>0</td>\n",
       "      <td>0</td>\n",
       "      <td>0</td>\n",
       "      <td>1</td>\n",
       "      <td>0</td>\n",
       "    </tr>\n",
       "    <tr>\n",
       "      <th>3</th>\n",
       "      <td>20</td>\n",
       "      <td>93.0</td>\n",
       "      <td>11160</td>\n",
       "      <td>1</td>\n",
       "      <td>0</td>\n",
       "      <td>0</td>\n",
       "      <td>7</td>\n",
       "      <td>5</td>\n",
       "      <td>1968</td>\n",
       "      <td>1968</td>\n",
       "      <td>...</td>\n",
       "      <td>0</td>\n",
       "      <td>0</td>\n",
       "      <td>0</td>\n",
       "      <td>0</td>\n",
       "      <td>1</td>\n",
       "      <td>0</td>\n",
       "      <td>0</td>\n",
       "      <td>0</td>\n",
       "      <td>1</td>\n",
       "      <td>0</td>\n",
       "    </tr>\n",
       "    <tr>\n",
       "      <th>4</th>\n",
       "      <td>60</td>\n",
       "      <td>74.0</td>\n",
       "      <td>13830</td>\n",
       "      <td>1</td>\n",
       "      <td>1</td>\n",
       "      <td>0</td>\n",
       "      <td>5</td>\n",
       "      <td>5</td>\n",
       "      <td>1997</td>\n",
       "      <td>1998</td>\n",
       "      <td>...</td>\n",
       "      <td>0</td>\n",
       "      <td>0</td>\n",
       "      <td>0</td>\n",
       "      <td>0</td>\n",
       "      <td>1</td>\n",
       "      <td>0</td>\n",
       "      <td>0</td>\n",
       "      <td>0</td>\n",
       "      <td>1</td>\n",
       "      <td>0</td>\n",
       "    </tr>\n",
       "  </tbody>\n",
       "</table>\n",
       "<p>5 rows × 210 columns</p>\n",
       "</div>"
      ],
      "text/plain": [
       "   MS SubClass  Lot Frontage  Lot Area  Street  Lot Shape  Land Slope  \\\n",
       "0           20         141.0     31770       1          1           0   \n",
       "1           20          80.0     11622       1          0           0   \n",
       "2           20          81.0     14267       1          1           0   \n",
       "3           20          93.0     11160       1          0           0   \n",
       "4           60          74.0     13830       1          1           0   \n",
       "\n",
       "   Overall Qual  Overall Cond  Year Built  Year Remod/Add  ...  \\\n",
       "0             6             5        1960            1960  ...   \n",
       "1             5             6        1961            1961  ...   \n",
       "2             6             6        1958            1958  ...   \n",
       "3             7             5        1968            1968  ...   \n",
       "4             5             5        1997            1998  ...   \n",
       "\n",
       "   Sale Type_ConLw  Sale Type_New  Sale Type_Oth  Sale Type_VWD  \\\n",
       "0                0              0              0              0   \n",
       "1                0              0              0              0   \n",
       "2                0              0              0              0   \n",
       "3                0              0              0              0   \n",
       "4                0              0              0              0   \n",
       "\n",
       "   Sale Type_WD   Sale Condition_AdjLand  Sale Condition_Alloca  \\\n",
       "0              1                       0                      0   \n",
       "1              1                       0                      0   \n",
       "2              1                       0                      0   \n",
       "3              1                       0                      0   \n",
       "4              1                       0                      0   \n",
       "\n",
       "   Sale Condition_Family  Sale Condition_Normal  Sale Condition_Partial  \n",
       "0                      0                      1                       0  \n",
       "1                      0                      1                       0  \n",
       "2                      0                      1                       0  \n",
       "3                      0                      1                       0  \n",
       "4                      0                      1                       0  \n",
       "\n",
       "[5 rows x 210 columns]"
      ]
     },
     "execution_count": 4,
     "metadata": {},
     "output_type": "execute_result"
    }
   ],
   "source": [
    "df.head()"
   ]
  },
  {
   "cell_type": "code",
   "execution_count": 9,
   "id": "acd90754",
   "metadata": {},
   "outputs": [
    {
     "ename": "TypeError",
     "evalue": "Cannot index by location index with a non-integer key",
     "output_type": "error",
     "traceback": [
      "\u001b[1;31m---------------------------------------------------------------------------\u001b[0m",
      "\u001b[1;31mTypeError\u001b[0m                                 Traceback (most recent call last)",
      "\u001b[1;32m<ipython-input-9-1cd95c0836df>\u001b[0m in \u001b[0;36m<module>\u001b[1;34m\u001b[0m\n\u001b[1;32m----> 1\u001b[1;33m \u001b[0mdf\u001b[0m\u001b[1;33m.\u001b[0m\u001b[0miloc\u001b[0m\u001b[1;33m[\u001b[0m\u001b[1;34m'Year Built'\u001b[0m\u001b[1;33m]\u001b[0m\u001b[1;33m.\u001b[0m\u001b[0midxmin\u001b[0m\u001b[1;33m(\u001b[0m\u001b[1;33m)\u001b[0m\u001b[1;33m\u001b[0m\u001b[1;33m\u001b[0m\u001b[0m\n\u001b[0m",
      "\u001b[1;32m~\\anaconda3\\envs\\NSSDC\\lib\\site-packages\\pandas\\core\\indexing.py\u001b[0m in \u001b[0;36m__getitem__\u001b[1;34m(self, key)\u001b[0m\n\u001b[0;32m    877\u001b[0m \u001b[1;33m\u001b[0m\u001b[0m\n\u001b[0;32m    878\u001b[0m             \u001b[0mmaybe_callable\u001b[0m \u001b[1;33m=\u001b[0m \u001b[0mcom\u001b[0m\u001b[1;33m.\u001b[0m\u001b[0mapply_if_callable\u001b[0m\u001b[1;33m(\u001b[0m\u001b[0mkey\u001b[0m\u001b[1;33m,\u001b[0m \u001b[0mself\u001b[0m\u001b[1;33m.\u001b[0m\u001b[0mobj\u001b[0m\u001b[1;33m)\u001b[0m\u001b[1;33m\u001b[0m\u001b[1;33m\u001b[0m\u001b[0m\n\u001b[1;32m--> 879\u001b[1;33m             \u001b[1;32mreturn\u001b[0m \u001b[0mself\u001b[0m\u001b[1;33m.\u001b[0m\u001b[0m_getitem_axis\u001b[0m\u001b[1;33m(\u001b[0m\u001b[0mmaybe_callable\u001b[0m\u001b[1;33m,\u001b[0m \u001b[0maxis\u001b[0m\u001b[1;33m=\u001b[0m\u001b[0maxis\u001b[0m\u001b[1;33m)\u001b[0m\u001b[1;33m\u001b[0m\u001b[1;33m\u001b[0m\u001b[0m\n\u001b[0m\u001b[0;32m    880\u001b[0m \u001b[1;33m\u001b[0m\u001b[0m\n\u001b[0;32m    881\u001b[0m     \u001b[1;32mdef\u001b[0m \u001b[0m_is_scalar_access\u001b[0m\u001b[1;33m(\u001b[0m\u001b[0mself\u001b[0m\u001b[1;33m,\u001b[0m \u001b[0mkey\u001b[0m\u001b[1;33m:\u001b[0m \u001b[0mTuple\u001b[0m\u001b[1;33m)\u001b[0m\u001b[1;33m:\u001b[0m\u001b[1;33m\u001b[0m\u001b[1;33m\u001b[0m\u001b[0m\n",
      "\u001b[1;32m~\\anaconda3\\envs\\NSSDC\\lib\\site-packages\\pandas\\core\\indexing.py\u001b[0m in \u001b[0;36m_getitem_axis\u001b[1;34m(self, key, axis)\u001b[0m\n\u001b[0;32m   1491\u001b[0m             \u001b[0mkey\u001b[0m \u001b[1;33m=\u001b[0m \u001b[0mitem_from_zerodim\u001b[0m\u001b[1;33m(\u001b[0m\u001b[0mkey\u001b[0m\u001b[1;33m)\u001b[0m\u001b[1;33m\u001b[0m\u001b[1;33m\u001b[0m\u001b[0m\n\u001b[0;32m   1492\u001b[0m             \u001b[1;32mif\u001b[0m \u001b[1;32mnot\u001b[0m \u001b[0mis_integer\u001b[0m\u001b[1;33m(\u001b[0m\u001b[0mkey\u001b[0m\u001b[1;33m)\u001b[0m\u001b[1;33m:\u001b[0m\u001b[1;33m\u001b[0m\u001b[1;33m\u001b[0m\u001b[0m\n\u001b[1;32m-> 1493\u001b[1;33m                 \u001b[1;32mraise\u001b[0m \u001b[0mTypeError\u001b[0m\u001b[1;33m(\u001b[0m\u001b[1;34m\"Cannot index by location index with a non-integer key\"\u001b[0m\u001b[1;33m)\u001b[0m\u001b[1;33m\u001b[0m\u001b[1;33m\u001b[0m\u001b[0m\n\u001b[0m\u001b[0;32m   1494\u001b[0m \u001b[1;33m\u001b[0m\u001b[0m\n\u001b[0;32m   1495\u001b[0m             \u001b[1;31m# validate the location\u001b[0m\u001b[1;33m\u001b[0m\u001b[1;33m\u001b[0m\u001b[1;33m\u001b[0m\u001b[0m\n",
      "\u001b[1;31mTypeError\u001b[0m: Cannot index by location index with a non-integer key"
     ]
    }
   ],
   "source": [
    "df.iloc['Year Built'].idxmin()"
   ]
  },
  {
   "cell_type": "code",
   "execution_count": 7,
   "id": "9243aa95",
   "metadata": {},
   "outputs": [],
   "source": [
    "X = df.drop('SalePrice', axis = 1)\n",
    "y = df['SalePrice']\n",
    "\n",
    "from sklearn.model_selection import train_test_split\n",
    "X_train, X_test, y_train, y_test = train_test_split(X, y, test_size=0.3)\n",
    "\n",
    "from sklearn.preprocessing import StandardScaler\n",
    "scaler = StandardScaler()\n",
    "scaler.fit(X_train)\n",
    "X_train = scaler.transform(X_train)\n",
    "X_test = scaler.transform(X_test)"
   ]
  },
  {
   "cell_type": "code",
   "execution_count": 5,
   "id": "79fc54de",
   "metadata": {},
   "outputs": [],
   "source": [
    "from sklearn.linear_model import LassoCV"
   ]
  },
  {
   "cell_type": "code",
   "execution_count": 24,
   "id": "55ee942e",
   "metadata": {},
   "outputs": [],
   "source": [
    "lasso_cv_model = LassoCV(eps = 0.1, n_alphas = 100, cv = 5)"
   ]
  },
  {
   "cell_type": "code",
   "execution_count": 25,
   "id": "b17d6b62",
   "metadata": {},
   "outputs": [
    {
     "data": {
      "text/plain": [
       "LassoCV(cv=5, eps=0.1)"
      ]
     },
     "execution_count": 25,
     "metadata": {},
     "output_type": "execute_result"
    }
   ],
   "source": [
    "lasso_cv_model.fit(X_train, y_train)"
   ]
  },
  {
   "cell_type": "code",
   "execution_count": 26,
   "id": "56401d47",
   "metadata": {},
   "outputs": [
    {
     "data": {
      "text/plain": [
       "5626.778928688413"
      ]
     },
     "execution_count": 26,
     "metadata": {},
     "output_type": "execute_result"
    }
   ],
   "source": [
    "lasso_cv_model.alpha_"
   ]
  },
  {
   "cell_type": "code",
   "execution_count": 27,
   "id": "43668e1f",
   "metadata": {},
   "outputs": [],
   "source": [
    "test_predictions = lasso_cv_model.predict(X_test)"
   ]
  },
  {
   "cell_type": "code",
   "execution_count": 28,
   "id": "7b168ff3",
   "metadata": {},
   "outputs": [],
   "source": [
    "from sklearn.metrics import mean_squared_error"
   ]
  },
  {
   "cell_type": "code",
   "execution_count": 29,
   "id": "9ae5929f",
   "metadata": {},
   "outputs": [],
   "source": [
    "MSE = mean_squared_error(y_test, test_predictions)\n",
    "RMSE = np.sqrt(MSE)"
   ]
  },
  {
   "cell_type": "code",
   "execution_count": 30,
   "id": "e0953a4b",
   "metadata": {},
   "outputs": [
    {
     "data": {
      "text/plain": [
       "668832706.7073733"
      ]
     },
     "execution_count": 30,
     "metadata": {},
     "output_type": "execute_result"
    }
   ],
   "source": [
    "MSE"
   ]
  },
  {
   "cell_type": "code",
   "execution_count": 31,
   "id": "02e289b0",
   "metadata": {},
   "outputs": [
    {
     "data": {
      "text/plain": [
       "25861.800144370718"
      ]
     },
     "execution_count": 31,
     "metadata": {},
     "output_type": "execute_result"
    }
   ],
   "source": [
    "RMSE"
   ]
  },
  {
   "cell_type": "code",
   "execution_count": 32,
   "id": "f326c361",
   "metadata": {},
   "outputs": [
    {
     "data": {
      "text/plain": [
       "array([   -0.        ,   327.74996857,    21.49908712,     0.        ,\n",
       "           0.        ,     0.        , 17981.82569432,     0.        ,\n",
       "        3151.83271868,   887.74749803,     0.        ,  6282.81343739,\n",
       "           0.        ,  1127.18075207,     0.        ,  1134.90360812,\n",
       "           0.        ,  7859.12263501,     0.        ,     0.        ,\n",
       "          -0.        ,  4366.86843443,     0.        ,     0.        ,\n",
       "        3119.74648954,     0.        ,    -0.        , 17501.24777273,\n",
       "           0.        ,    -0.        ,     0.        ,     0.        ,\n",
       "          -0.        ,    -0.        ,  5479.77183389,     0.        ,\n",
       "           0.        ,  2262.14802734,     0.        ,  1315.62061552,\n",
       "         943.22680016,  4939.07441859,     0.        ,     0.        ,\n",
       "           0.        ,     0.        ,     0.        ,    -0.        ,\n",
       "           0.        ,     0.        ,     0.        ,     0.        ,\n",
       "           0.        ,    -0.        ,    -0.        ,     0.        ,\n",
       "          -0.        ,    -0.        ,     0.        ,    -0.        ,\n",
       "           0.        ,     0.        ,    -0.        ,     0.        ,\n",
       "          -0.        ,     0.        ,    -0.        ,     0.        ,\n",
       "          -0.        ,    -0.        ,    -0.        ,    -0.        ,\n",
       "           0.        ,    -0.        ,     0.        ,    -0.        ,\n",
       "          -0.        ,    -0.        ,     0.        ,    -0.        ,\n",
       "          -0.        ,    -0.        ,    -0.        ,    -0.        ,\n",
       "          -0.        ,    -0.        ,     0.        ,  1532.83142653,\n",
       "          -0.        ,    -0.        ,    -0.        ,    -0.        ,\n",
       "           0.        ,     0.        ,     0.        ,     0.        ,\n",
       "          -0.        ,     0.        ,     0.        ,     0.        ,\n",
       "          -0.        ,     0.        ,    -0.        ,     0.        ,\n",
       "          -0.        ,    -0.        ,     0.        ,     0.        ,\n",
       "          -0.        ,     0.        ,     0.        ,    -0.        ,\n",
       "          -0.        ,    -0.        ,    -0.        ,    -0.        ,\n",
       "           0.        ,    -0.        ,    -0.        ,     0.        ,\n",
       "          -0.        ,    -0.        ,    -0.        ,    -0.        ,\n",
       "           0.        ,    -0.        ,    -0.        ,     0.        ,\n",
       "           0.        ,    -0.        ,     0.        ,     0.        ,\n",
       "          -0.        ,    -0.        ,    -0.        ,     0.        ,\n",
       "           0.        ,     0.        ,    -0.        ,     0.        ,\n",
       "          -0.        ,    -0.        ,     0.        ,     0.        ,\n",
       "          -0.        ,     0.        ,    -0.        ,    -0.        ,\n",
       "           0.        ,    -0.        ,    -0.        ,     0.        ,\n",
       "           0.        ,    -0.        ,    -0.        ,    -0.        ,\n",
       "           0.        ,    -0.        ,     0.        ,     0.        ,\n",
       "          -0.        ,     0.        ,    -0.        ,    -0.        ,\n",
       "           0.        ,    -0.        ,    -0.        ,     0.        ,\n",
       "          -0.        ,     0.        ,     0.        ,     0.        ,\n",
       "          -0.        ,     0.        ,    -0.        ,    -0.        ,\n",
       "          -0.        ,     0.        ,    -0.        ,    -0.        ,\n",
       "          -0.        ,     0.        ,    -0.        ,    -0.        ,\n",
       "          -0.        ,    -0.        ,    -0.        ,    -0.        ,\n",
       "           0.        ,     0.        ,    -0.        ,     0.        ,\n",
       "          -0.        ,    -0.        ,    -0.        ,     0.        ,\n",
       "           0.        ,    -0.        ,     0.        ,    -0.        ,\n",
       "           0.        ,    -0.        ,     0.        ,    -0.        ,\n",
       "          -0.        ,     0.        ,    -0.        ,    -0.        ,\n",
       "        1472.0979229 ])"
      ]
     },
     "execution_count": 32,
     "metadata": {},
     "output_type": "execute_result"
    }
   ],
   "source": [
    "lasso_cv_model.coef_"
   ]
  },
  {
   "cell_type": "code",
   "execution_count": 38,
   "id": "c61086d4",
   "metadata": {},
   "outputs": [
    {
     "data": {
      "text/plain": [
       "array([  327.74996857,    21.49908712, 17981.82569432,  3151.83271868,\n",
       "         887.74749803,  6282.81343739,  1127.18075207,  1134.90360812,\n",
       "        7859.12263501,  4366.86843443,  3119.74648954, 17501.24777273,\n",
       "        5479.77183389,  2262.14802734,  1315.62061552,   943.22680016,\n",
       "        4939.07441859,  1532.83142653,  1472.0979229 ])"
      ]
     },
     "execution_count": 38,
     "metadata": {},
     "output_type": "execute_result"
    }
   ],
   "source": [
    "x = lasso_cv_model.coef_\n",
    "x[x>0]"
   ]
  },
  {
   "cell_type": "code",
   "execution_count": 35,
   "id": "a7493831",
   "metadata": {},
   "outputs": [
    {
     "name": "stdout",
     "output_type": "stream",
     "text": [
      "(array([1], dtype=int64),) (array([2], dtype=int64),) (array([6], dtype=int64),) (array([8], dtype=int64),) (array([9], dtype=int64),) (array([11], dtype=int64),) (array([13], dtype=int64),) (array([15], dtype=int64),) (array([17], dtype=int64),) (array([21], dtype=int64),) (array([24], dtype=int64),) (array([27], dtype=int64),) (array([34], dtype=int64),) (array([37], dtype=int64),) (array([39], dtype=int64),) (array([40], dtype=int64),) (array([41], dtype=int64),) (array([87], dtype=int64),) (array([208], dtype=int64),)\n"
     ]
    }
   ],
   "source": [
    "print(np.where(np.isclose(x, 327.74996857)), np.where(np.isclose(x, 21.49908712)), np.where(np.isclose(x, 17981.82569432)),\n",
    "np.where(np.isclose(x, 3151.83271868)), np.where(np.isclose(x, 887.74749803)), np.where(np.isclose(x, 6282.81343739)),\n",
    "np.where(np.isclose(x, 1127.18075207)), np.where(np.isclose(x, 1134.90360812)), np.where(np.isclose(x, 7859.12263501)),\n",
    "np.where(np.isclose(x, 4366.86843443)), np.where(np.isclose(x, 3119.74648954)), np.where(np.isclose(x, 17501.24777273)),\n",
    "np.where(np.isclose(x, 5479.77183389)), np.where(np.isclose(x, 2262.14802734)), np.where(np.isclose(x, 1315.62061552)),\n",
    "np.where(np.isclose(x, 943.22680016)),np.where(np.isclose(x, 4939.07441859)),np.where(np.isclose(x, 1532.83142653)),\n",
    "np.where(np.isclose(x, 1472.0979229)))"
   ]
  },
  {
   "cell_type": "code",
   "execution_count": 40,
   "id": "6db0ce26",
   "metadata": {},
   "outputs": [
    {
     "name": "stdout",
     "output_type": "stream",
     "text": [
      "Lot Frontage,Lot Area,Overall Qual,Year Built,Year Remod/Add,Exter Qual,Bsmt Qual,Bsmt Exposure,BsmtFin SF 1,Total Bsmt SF,1st Flr SF,Gr Liv Area,Kitchen Qual,Fireplace Qu,Garage Finish,Garage Cars,Garage Area,Neighborhood_NridgHt,Sale Condition_Partial\n"
     ]
    }
   ],
   "source": [
    "arr = X.columns.values\n",
    "print(arr[1] + ',' + arr[2] + ',' + arr[6] + ',' + arr[8] + ',' + arr[9] + ',' + arr[11] + ','\n",
    "     + arr[13] + ',' + arr[15] + ',' + arr[17] + ',' + arr[21] + ',' + arr[24] + ',' \n",
    "     + arr[27] + ',' + arr[34] + ',' + arr[37] + ',' + arr[39] + ',' + arr[40] + ',' + arr[41] + \n",
    "     ',' + arr[87] + ',' + arr[208])"
   ]
  },
  {
   "cell_type": "code",
   "execution_count": null,
   "id": "848629f4",
   "metadata": {},
   "outputs": [],
   "source": []
  }
 ],
 "metadata": {
  "kernelspec": {
   "display_name": "Python 3",
   "language": "python",
   "name": "python3"
  },
  "language_info": {
   "codemirror_mode": {
    "name": "ipython",
    "version": 3
   },
   "file_extension": ".py",
   "mimetype": "text/x-python",
   "name": "python",
   "nbconvert_exporter": "python",
   "pygments_lexer": "ipython3",
   "version": "3.7.10"
  }
 },
 "nbformat": 4,
 "nbformat_minor": 5
}
